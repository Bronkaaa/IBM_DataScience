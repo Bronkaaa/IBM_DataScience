{
  "metadata": {
    "language_info": {
      "codemirror_mode": {
        "name": "python",
        "version": 3
      },
      "file_extension": ".py",
      "mimetype": "text/x-python",
      "name": "python",
      "nbconvert_exporter": "python",
      "pygments_lexer": "ipython3",
      "version": "3.8"
    },
    "kernelspec": {
      "name": "python",
      "display_name": "Python (Pyodide)",
      "language": "python"
    }
  },
  "nbformat_minor": 4,
  "nbformat": 4,
  "cells": [
    {
      "cell_type": "markdown",
      "source": "# Data Science Tools and Ecosystem\n",
      "metadata": {}
    },
    {
      "cell_type": "markdown",
      "source": "In this notebook, Data Science Tools and Ecosystem are summarized.",
      "metadata": {}
    },
    {
      "cell_type": "markdown",
      "source": "Some of the popular languages that Data Scientists use are:\n\n1. **Python:** Widely used for data analysis, machine learning, and building data-driven applications. Python has a rich ecosystem of libraries such as NumPy, Pandas, and Scikit-learn.\n\n2. **R:** Commonly used for statistical analysis, data visualization, and machine learning. R provides a comprehensive set of packages for data manipulation and statistical modeling.\n\n3. **SQL:** Essential for working with relational databases. Data scientists often use SQL to query, manipulate, and analyze data stored in databases.\n\n4. **Julia:** Known for its speed and performance, Julia is used for high-performance numerical and scientific computing.\n\nFeel free to explore and experiment with these languages based on your specific data science needs!\n",
      "metadata": {}
    },
    {
      "cell_type": "markdown",
      "source": "Some of the commonly used libraries by Data Scientists include:\n\n1. **NumPy:** A powerful library for numerical computing in Python. It provides support for large, multi-dimensional arrays and matrices, along with mathematical functions to operate on these arrays.\n\n2. **Pandas:** A data manipulation library for Python. Pandas is widely used for data cleaning, exploration, and analysis. It introduces data structures like Series and DataFrame.\n\n3. **Matplotlib:** A popular plotting library in Python for creating static, animated, and interactive visualizations. Matplotlib is essential for data visualization and exploration.\n\n4. **Scikit-learn:** A machine learning library for Python that provides simple and efficient tools for data mining and data analysis. It includes various algorithms for classification, regression, clustering, and more.\n\nFeel free to explore these libraries to enhance your data science projects!\n",
      "metadata": {}
    },
    {
      "cell_type": "markdown",
      "source": "Below are a few examples of evaluating arithmetic expressions in Python:\n\n| Data Science Tools |\n|--------------------|\n| Jupyter Notebooks  |\n| RStudio            |\n| VS Code            |\n",
      "metadata": {}
    },
    {
      "cell_type": "markdown",
      "source": "### Below are a few examples of evaluating arithmetic expressions in Python",
      "metadata": {}
    },
    {
      "cell_type": "code",
      "source": "# This is a simple arithmetic expression to multiply then add integers.\nresult = (3 * 4) + 5\nresult\n",
      "metadata": {
        "trusted": true
      },
      "execution_count": 11,
      "outputs": [
        {
          "execution_count": 11,
          "output_type": "execute_result",
          "data": {
            "text/plain": "17"
          },
          "metadata": {}
        }
      ]
    },
    {
      "cell_type": "code",
      "source": "# This will convert 200 minutes to hours by dividing by 60.\nminutes = 200\nhours = minutes / 60\nhours\n",
      "metadata": {
        "trusted": true
      },
      "execution_count": 10,
      "outputs": [
        {
          "execution_count": 10,
          "output_type": "execute_result",
          "data": {
            "text/plain": "3.3333333333333335"
          },
          "metadata": {}
        }
      ]
    },
    {
      "cell_type": "markdown",
      "source": "**Objectives:**\n\n- Understand popular languages for Data Science.\n- Explore commonly used libraries in Data Science.\n- Learn about tools and ecosystems in Data Science.\n- Practice evaluating arithmetic expressions in Python.\n- Apply Python for simple calculations and conversions.\n",
      "metadata": {}
    },
    {
      "cell_type": "markdown",
      "source": "## Author\n\nRoman Juhls\n",
      "metadata": {}
    },
    {
      "cell_type": "code",
      "source": "",
      "metadata": {},
      "execution_count": null,
      "outputs": []
    }
  ]
}